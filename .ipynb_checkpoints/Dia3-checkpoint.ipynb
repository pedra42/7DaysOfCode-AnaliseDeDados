{
 "cells": [
  {
   "cell_type": "code",
   "execution_count": 32,
   "id": "d2287393-9849-4bbc-a58e-2f801ae45127",
   "metadata": {},
   "outputs": [],
   "source": [
    "#Final da solução do dia 2 \n",
    "\n",
    "import pandas as pd\n",
    "import numpy as np\n",
    "\n",
    "csv_dir = \"C:/Users/barro/7DaysOfCode-AnaliseDeDados/DataFrameDesafio_3.csv\"\n",
    "\n",
    "df = pd.read_csv(csv_dir)\n",
    "#df.head()\n",
    "#df.info()\n",
    "\n",
    "condition = [(df[\"localizacao\"] >= 000) & (df[\"localizacao\"]<100),(df[\"localizacao\"] >= 100) & (df[\"localizacao\"]<200),(df[\"localizacao\"] >= 200) & (df[\"localizacao\"]<300),(df[\"localizacao\"] >= 300) & (df[\"localizacao\"]<400),(df[\"localizacao\"] >= 400) & (df[\"localizacao\"]<500),(df[\"localizacao\"] >= 500) & (df[\"localizacao\"]<600),(df[\"localizacao\"] >= 600) & (df[\"localizacao\"]<700),(df[\"localizacao\"] >= 700) & (df[\"localizacao\"]<800),(df[\"localizacao\"] >= 800) & (df[\"localizacao\"]<900),(df[\"localizacao\"] >= 900) & (df[\"localizacao\"]<1000)] \n",
    "\n",
    "\n",
    "valores = [\"Generalidades. Ciência e Conhecimento.\", \"Filosofia e Psicologia.\", \"Religião\", \"Ciência Sociais.\", \"Classe Vaga.\", \"Matemática e Ciências naturais\", \"Ciências Aplicadas\", \"Belas Artes\", \"Linguagem. Língua. Linguistica\", \"Geografia. Biografia. História.\"]\n",
    "df[\"CDU\"] = np.select(condition, valores)\n",
    "\n",
    "#df.head()\n",
    "#print(df.iloc[515200:517800])\n",
    "df.to_csv(\"C:/Users/barro/7DaysOfCode-AnaliseDeDados/DataFrameDesafio_4.csv\") "
   ]
  },
  {
   "cell_type": "code",
   "execution_count": 38,
   "id": "d803e6c2-81ea-4a5f-be24-dbc7d9b9377b",
   "metadata": {},
   "outputs": [],
   "source": [
    "#Inicio solução do dia 3\n",
    "import matplotlib as mp\n",
    "csv_dir = \"C:/Users/barro/7DaysOfCode-AnaliseDeDados/DataFrameDesafio_4.csv\"\n"
   ]
  }
 ],
 "metadata": {
  "kernelspec": {
   "display_name": "Python 3 (ipykernel)",
   "language": "python",
   "name": "python3"
  },
  "language_info": {
   "codemirror_mode": {
    "name": "ipython",
    "version": 3
   },
   "file_extension": ".py",
   "mimetype": "text/x-python",
   "name": "python",
   "nbconvert_exporter": "python",
   "pygments_lexer": "ipython3",
   "version": "3.12.4"
  }
 },
 "nbformat": 4,
 "nbformat_minor": 5
}
